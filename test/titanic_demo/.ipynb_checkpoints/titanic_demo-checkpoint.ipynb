{
 "cells": [
  {
   "cell_type": "markdown",
   "metadata": {},
   "source": [
    "# 准备数据集"
   ]
  },
  {
   "cell_type": "code",
   "execution_count": 2,
   "metadata": {},
   "outputs": [],
   "source": [
    "import numpy as np\n",
    "import pandas as pd\n",
    "import matplotlib.pyplot as plt\n",
    "#import seaborn as sns"
   ]
  },
  {
   "cell_type": "code",
   "execution_count": 3,
   "metadata": {},
   "outputs": [
    {
     "name": "stderr",
     "output_type": "stream",
     "text": [
      "c:\\users\\wxh\\appdata\\local\\programs\\python\\python35\\lib\\site-packages\\ipykernel_launcher.py:17: FutureWarning: Sorting because non-concatenation axis is not aligned. A future version\n",
      "of pandas will change to not sort by default.\n",
      "\n",
      "To accept the future behavior, pass 'sort=False'.\n",
      "\n",
      "To retain the current behavior and silence the warning, pass 'sort=True'.\n",
      "\n"
     ]
    },
    {
     "data": {
      "text/plain": [
       "'\\n最后保留如下项目：\\nPclass => 客舱等级(1/2/3等舱位)\\nSex => 性别 male=1 female=0\\nAge => 年龄 插补后分0,1,2 代表 幼年（0-15） 成年（15-55） 老年（55-）\\nFare => 船票价格 经聚类变0 1 2 代表少 多 很多\\nCabin => 客舱号 清洗成有无此项，并发现有的生存率高\\n'"
      ]
     },
     "execution_count": 3,
     "metadata": {},
     "output_type": "execute_result"
    }
   ],
   "source": [
    "'''\n",
    "PassengerId => 乘客ID\n",
    "Pclass => 客舱等级(1/2/3等舱位)\n",
    "Name => 乘客姓名\n",
    "Sex => 性别 清洗成male=1 female=0\n",
    "Age => 年龄 插补后分0,1,2 代表 幼年（0-15） 成年（15-55） 老年（55-）\n",
    "SibSp => 兄弟姐妹数/配偶数\n",
    "Parch => 父母数/子女数\n",
    "Ticket => 船票编号\n",
    "Fare => 船票价格 经聚类变0 1 2 代表少 多 很多\n",
    "Cabin => 客舱号 清洗成有无此项，并发现有的生存率高\n",
    "Embarked => 登船港口 清洗na,填S\n",
    "'''\n",
    "# combine train and test set.\n",
    "train=pd.read_csv('./train.csv')\n",
    "test=pd.read_csv('./test.csv')\n",
    "full=pd.concat([train,test],ignore_index=True)\n",
    "full['Embarked'].fillna('S',inplace=True)\n",
    "full.Fare.fillna(full[full.Pclass==3]['Fare'].median(),inplace=True)\n",
    "full.loc[full.Cabin.notnull(),'Cabin']=1\n",
    "full.loc[full.Cabin.isnull(),'Cabin']=0\n",
    "full.loc[full['Sex']=='male','Sex']=1\n",
    "full.loc[full['Sex']=='female','Sex']=0\n",
    "\n",
    "full['Title']=full['Name'].apply(lambda x: x.split(',')[1].split('.')[0].strip())\n",
    "nn={'Capt':'Rareman', 'Col':'Rareman','Don':'Rareman','Dona':'Rarewoman',\n",
    "    'Dr':'Rareman','Jonkheer':'Rareman','Lady':'Rarewoman','Major':'Rareman',\n",
    "    'Master':'Master','Miss':'Miss','Mlle':'Rarewoman','Mme':'Rarewoman',\n",
    "    'Mr':'Mr','Mrs':'Mrs','Ms':'Rarewoman','Rev':'Mr','Sir':'Rareman',\n",
    "    'the Countess':'Rarewoman'}\n",
    "full.Title=full.Title.map(nn)\n",
    "# assign the female 'Dr' to 'Rarewoman'\n",
    "full.loc[full.PassengerId==797,'Title']='Rarewoman'\n",
    "full.Age.fillna(999,inplace=True)\n",
    "def girl(aa):\n",
    "    if (aa.Age!=999)&(aa.Title=='Miss')&(aa.Age<=14):\n",
    "        return 'Girl'\n",
    "    elif (aa.Age==999)&(aa.Title=='Miss')&(aa.Parch!=0):\n",
    "        return 'Girl'\n",
    "    else:\n",
    "        return aa.Title\n",
    "\n",
    "full['Title']=full.apply(girl,axis=1)\n",
    "\n",
    "Tit=['Mr','Miss','Mrs','Master','Girl','Rareman','Rarewoman']\n",
    "for i in Tit:\n",
    "    full.loc[(full.Age==999)&(full.Title==i),'Age']=full.loc[full.Title==i,'Age'].median()\n",
    "    \n",
    "full.loc[full['Age']<=15,'Age']=0\n",
    "full.loc[(full['Age']>15)&(full['Age']<55),'Age']=1\n",
    "full.loc[full['Age']>=55,'Age']=2\n",
    "full['Pclass']=full['Pclass']-1\n",
    "from sklearn.cluster import KMeans\n",
    "Fare=full['Fare'].values\n",
    "Fare=Fare.reshape(-1,1)\n",
    "km = KMeans(n_clusters=3).fit(Fare)   #将数据集分为2类\n",
    "Fare = km.fit_predict(Fare)\n",
    "full['Fare']=Fare\n",
    "full['Fare']=full['Fare'].astype(int)\n",
    "full['Age']=full['Age'].astype(int)\n",
    "full['Cabin']=full['Cabin'].astype(int)\n",
    "full['Pclass']=full['Pclass'].astype(int)\n",
    "full['Sex']=full['Sex'].astype(int)\n",
    "#full['Survived']=full['Survived'].astype(int)\n",
    "\n",
    "\n",
    "dataset=full.drop(columns=['Embarked','Name','Parch','PassengerId','SibSp','Ticket','Title'])\n",
    "dataset.dropna(inplace=True)\n",
    "dataset['Survived']=dataset['Survived'].astype(int)\n",
    "#dataset=pd.concat([dataset, pd.DataFrame(columns=['Pri'])])\n",
    "train=dataset[:800]\n",
    "test=dataset[800:]\n",
    "'''\n",
    "最后保留如下项目：\n",
    "Pclass => 客舱等级(1/2/3等舱位)\n",
    "Sex => 性别 male=1 female=0\n",
    "Age => 年龄 插补后分0,1,2 代表 幼年（0-15） 成年（15-55） 老年（55-）\n",
    "Fare => 船票价格 经聚类变0 1 2 代表少 多 很多\n",
    "Cabin => 客舱号 清洗成有无此项，并发现有的生存率高\n",
    "'''"
   ]
  },
  {
   "cell_type": "code",
   "execution_count": 4,
   "metadata": {
    "scrolled": true
   },
   "outputs": [
    {
     "data": {
      "text/html": [
       "<div>\n",
       "<style scoped>\n",
       "    .dataframe tbody tr th:only-of-type {\n",
       "        vertical-align: middle;\n",
       "    }\n",
       "\n",
       "    .dataframe tbody tr th {\n",
       "        vertical-align: top;\n",
       "    }\n",
       "\n",
       "    .dataframe thead th {\n",
       "        text-align: right;\n",
       "    }\n",
       "</style>\n",
       "<table border=\"1\" class=\"dataframe\">\n",
       "  <thead>\n",
       "    <tr style=\"text-align: right;\">\n",
       "      <th></th>\n",
       "      <th>Age</th>\n",
       "      <th>Cabin</th>\n",
       "      <th>Fare</th>\n",
       "      <th>Pclass</th>\n",
       "      <th>Sex</th>\n",
       "      <th>Survived</th>\n",
       "    </tr>\n",
       "  </thead>\n",
       "  <tbody>\n",
       "    <tr>\n",
       "      <th>0</th>\n",
       "      <td>1</td>\n",
       "      <td>0</td>\n",
       "      <td>0</td>\n",
       "      <td>2</td>\n",
       "      <td>1</td>\n",
       "      <td>0</td>\n",
       "    </tr>\n",
       "    <tr>\n",
       "      <th>1</th>\n",
       "      <td>1</td>\n",
       "      <td>1</td>\n",
       "      <td>2</td>\n",
       "      <td>0</td>\n",
       "      <td>0</td>\n",
       "      <td>1</td>\n",
       "    </tr>\n",
       "    <tr>\n",
       "      <th>2</th>\n",
       "      <td>1</td>\n",
       "      <td>0</td>\n",
       "      <td>0</td>\n",
       "      <td>2</td>\n",
       "      <td>0</td>\n",
       "      <td>1</td>\n",
       "    </tr>\n",
       "    <tr>\n",
       "      <th>3</th>\n",
       "      <td>1</td>\n",
       "      <td>1</td>\n",
       "      <td>2</td>\n",
       "      <td>0</td>\n",
       "      <td>0</td>\n",
       "      <td>1</td>\n",
       "    </tr>\n",
       "    <tr>\n",
       "      <th>4</th>\n",
       "      <td>1</td>\n",
       "      <td>0</td>\n",
       "      <td>0</td>\n",
       "      <td>2</td>\n",
       "      <td>1</td>\n",
       "      <td>0</td>\n",
       "    </tr>\n",
       "  </tbody>\n",
       "</table>\n",
       "</div>"
      ],
      "text/plain": [
       "   Age  Cabin  Fare  Pclass  Sex  Survived\n",
       "0    1      0     0       2    1         0\n",
       "1    1      1     2       0    0         1\n",
       "2    1      0     0       2    0         1\n",
       "3    1      1     2       0    0         1\n",
       "4    1      0     0       2    1         0"
      ]
     },
     "execution_count": 4,
     "metadata": {},
     "output_type": "execute_result"
    }
   ],
   "source": [
    "train.head()"
   ]
  },
  {
   "cell_type": "markdown",
   "metadata": {},
   "source": [
    "# 贝叶斯网络建模"
   ]
  },
  {
   "cell_type": "code",
   "execution_count": 5,
   "metadata": {},
   "outputs": [],
   "source": [
    "from pgmpy.models import BayesianModel\n",
    "from pgmpy.estimators import BayesianEstimator\n",
    "\n",
    "#model = BayesianModel([('Age', 'Pri'), ('Sex', 'Pri'),('Pri','Survived'),('Fare','Pclass'),('Pclass','Survived'),('Cabin','Survived')])\n",
    "model = BayesianModel([('Age', 'Survived'), ('Sex', 'Survived'),('Fare','Pclass'),('Pclass','Survived'),('Cabin','Survived')])\n",
    "model.fit(train, estimator=BayesianEstimator, prior_type=\"BDeu\") # default equivalent_sample_size=5\n"
   ]
  },
  {
   "cell_type": "code",
   "execution_count": 6,
   "metadata": {},
   "outputs": [
    {
     "data": {
      "image/svg+xml": [
       "<?xml version=\"1.0\" encoding=\"UTF-8\" standalone=\"no\"?>\r\n",
       "<!DOCTYPE svg PUBLIC \"-//W3C//DTD SVG 1.1//EN\"\r\n",
       " \"http://www.w3.org/Graphics/SVG/1.1/DTD/svg11.dtd\">\r\n",
       "<!-- Generated by graphviz version 2.38.0 (20140413.2041)\r\n",
       " -->\r\n",
       "<!-- Title: %3 Pages: 1 -->\r\n",
       "<svg width=\"278pt\" height=\"143pt\"\r\n",
       " viewBox=\"0.00 0.00 278.00 143.00\" xmlns=\"http://www.w3.org/2000/svg\" xmlns:xlink=\"http://www.w3.org/1999/xlink\">\r\n",
       "<g id=\"graph0\" class=\"graph\" transform=\"scale(1 1) rotate(0) translate(4 139)\">\r\n",
       "<title>%3</title>\r\n",
       "<polygon fill=\"white\" stroke=\"none\" points=\"-4,4 -4,-139 274,-139 274,4 -4,4\"/>\r\n",
       "<!-- Age -->\r\n",
       "<g id=\"node1\" class=\"node\"><title>Age</title>\r\n",
       "<polygon fill=\"lightgrey\" stroke=\"black\" points=\"54,-78 0,-78 0,-57 54,-57 54,-78\"/>\r\n",
       "<text text-anchor=\"middle\" x=\"27\" y=\"-64.4\" font-family=\"Times New Roman,serif\" font-size=\"12.00\">Age</text>\r\n",
       "</g>\r\n",
       "<!-- Survived -->\r\n",
       "<g id=\"node2\" class=\"node\"><title>Survived</title>\r\n",
       "<polygon fill=\"lightgrey\" stroke=\"black\" points=\"163,-21 107,-21 107,-0 163,-0 163,-21\"/>\r\n",
       "<text text-anchor=\"middle\" x=\"135\" y=\"-7.4\" font-family=\"Times New Roman,serif\" font-size=\"12.00\">Survived</text>\r\n",
       "</g>\r\n",
       "<!-- Age&#45;&gt;Survived -->\r\n",
       "<g id=\"edge1\" class=\"edge\"><title>Age&#45;&gt;Survived</title>\r\n",
       "<path fill=\"none\" stroke=\"black\" d=\"M45.8122,-56.9197C62.7434,-48.2973 87.8492,-35.512 107.114,-25.7011\"/>\r\n",
       "<polygon fill=\"black\" stroke=\"black\" points=\"108.718,-28.812 116.041,-21.155 105.542,-22.5742 108.718,-28.812\"/>\r\n",
       "</g>\r\n",
       "<!-- Fare -->\r\n",
       "<g id=\"node3\" class=\"node\"><title>Fare</title>\r\n",
       "<polygon fill=\"lightgrey\" stroke=\"black\" points=\"126,-135 72,-135 72,-114 126,-114 126,-135\"/>\r\n",
       "<text text-anchor=\"middle\" x=\"99\" y=\"-121.4\" font-family=\"Times New Roman,serif\" font-size=\"12.00\">Fare</text>\r\n",
       "</g>\r\n",
       "<!-- Pclass -->\r\n",
       "<g id=\"node4\" class=\"node\"><title>Pclass</title>\r\n",
       "<polygon fill=\"lightgrey\" stroke=\"black\" points=\"126,-78 72,-78 72,-57 126,-57 126,-78\"/>\r\n",
       "<text text-anchor=\"middle\" x=\"99\" y=\"-64.4\" font-family=\"Times New Roman,serif\" font-size=\"12.00\">Pclass</text>\r\n",
       "</g>\r\n",
       "<!-- Fare&#45;&gt;Pclass -->\r\n",
       "<g id=\"edge2\" class=\"edge\"><title>Fare&#45;&gt;Pclass</title>\r\n",
       "<path fill=\"none\" stroke=\"black\" d=\"M99,-113.92C99,-106.908 99,-97.1442 99,-88.4652\"/>\r\n",
       "<polygon fill=\"black\" stroke=\"black\" points=\"102.5,-88.3408 99,-78.3408 95.5001,-88.3409 102.5,-88.3408\"/>\r\n",
       "</g>\r\n",
       "<!-- Pclass&#45;&gt;Survived -->\r\n",
       "<g id=\"edge5\" class=\"edge\"><title>Pclass&#45;&gt;Survived</title>\r\n",
       "<path fill=\"none\" stroke=\"black\" d=\"M105.271,-56.9197C110.166,-49.4409 117.111,-38.8301 123.058,-29.745\"/>\r\n",
       "<polygon fill=\"black\" stroke=\"black\" points=\"126.011,-31.6247 128.559,-21.3408 120.154,-27.791 126.011,-31.6247\"/>\r\n",
       "</g>\r\n",
       "<!-- Cabin -->\r\n",
       "<g id=\"node5\" class=\"node\"><title>Cabin</title>\r\n",
       "<polygon fill=\"lightgrey\" stroke=\"black\" points=\"198,-78 144,-78 144,-57 198,-57 198,-78\"/>\r\n",
       "<text text-anchor=\"middle\" x=\"171\" y=\"-64.4\" font-family=\"Times New Roman,serif\" font-size=\"12.00\">Cabin</text>\r\n",
       "</g>\r\n",
       "<!-- Cabin&#45;&gt;Survived -->\r\n",
       "<g id=\"edge3\" class=\"edge\"><title>Cabin&#45;&gt;Survived</title>\r\n",
       "<path fill=\"none\" stroke=\"black\" d=\"M164.729,-56.9197C159.834,-49.4409 152.889,-38.8301 146.942,-29.745\"/>\r\n",
       "<polygon fill=\"black\" stroke=\"black\" points=\"149.846,-27.791 141.441,-21.3408 143.989,-31.6247 149.846,-27.791\"/>\r\n",
       "</g>\r\n",
       "<!-- Sex -->\r\n",
       "<g id=\"node6\" class=\"node\"><title>Sex</title>\r\n",
       "<polygon fill=\"lightgrey\" stroke=\"black\" points=\"270,-78 216,-78 216,-57 270,-57 270,-78\"/>\r\n",
       "<text text-anchor=\"middle\" x=\"243\" y=\"-64.4\" font-family=\"Times New Roman,serif\" font-size=\"12.00\">Sex</text>\r\n",
       "</g>\r\n",
       "<!-- Sex&#45;&gt;Survived -->\r\n",
       "<g id=\"edge4\" class=\"edge\"><title>Sex&#45;&gt;Survived</title>\r\n",
       "<path fill=\"none\" stroke=\"black\" d=\"M224.188,-56.9197C207.257,-48.2973 182.151,-35.512 162.886,-25.7011\"/>\r\n",
       "<polygon fill=\"black\" stroke=\"black\" points=\"164.458,-22.5742 153.959,-21.155 161.282,-28.812 164.458,-22.5742\"/>\r\n",
       "</g>\r\n",
       "</g>\r\n",
       "</svg>\r\n"
      ],
      "text/plain": [
       "<graphviz.dot.Digraph at 0x10b92a20>"
      ]
     },
     "execution_count": 6,
     "metadata": {},
     "output_type": "execute_result"
    }
   ],
   "source": [
    "def showBN(model,save=False):\n",
    "    '''传入BayesianModel对象，调用graphviz绘制结构图，jupyter中可直接显示'''\n",
    "    from graphviz import Digraph\n",
    "    node_attr = dict(\n",
    "     style='filled',\n",
    "     shape='box',\n",
    "     align='left',\n",
    "     fontsize='12',\n",
    "     ranksep='0.1',\n",
    "     height='0.2'\n",
    "    )\n",
    "    dot = Digraph(node_attr=node_attr, graph_attr=dict(size=\"12,12\"))\n",
    "    seen = set()\n",
    "    edges=model.edges()\n",
    "    for a,b in edges:\n",
    "        dot.edge(a,b)\n",
    "    if save:\n",
    "        dot.view(cleanup=True)\n",
    "    return dot\n",
    "showBN(model)"
   ]
  },
  {
   "cell_type": "code",
   "execution_count": 8,
   "metadata": {
    "scrolled": true
   },
   "outputs": [],
   "source": [
    "#for cpd in model.get_cpds():\n",
    "#    print(cpd)\n",
    "predict_data=test.drop(columns=['Survived'],axis=1)\n",
    "y_pred = model.predict(predict_data)\n"
   ]
  },
  {
   "cell_type": "code",
   "execution_count": 9,
   "metadata": {},
   "outputs": [
    {
     "data": {
      "text/plain": [
       "0.8131868131868132"
      ]
     },
     "execution_count": 9,
     "metadata": {},
     "output_type": "execute_result"
    }
   ],
   "source": [
    "(y_pred['Survived']==test['Survived']).sum()/len(test)#测试集精度"
   ]
  },
  {
   "cell_type": "code",
   "execution_count": 28,
   "metadata": {},
   "outputs": [
    {
     "name": "stdout",
     "output_type": "stream",
     "text": [
      "+------------+-----------------+\n",
      "| Survived   |   phi(Survived) |\n",
      "+============+=================+\n",
      "| Survived_0 |          0.6341 |\n",
      "+------------+-----------------+\n",
      "| Survived_1 |          0.3659 |\n",
      "+------------+-----------------+\n",
      "{'Fare': 0, 'Age': 1, 'Sex': 0, 'Pclass': 2, 'Cabin': 0}\n"
     ]
    },
    {
     "name": "stderr",
     "output_type": "stream",
     "text": [
      "c:\\users\\wxh\\appdata\\local\\programs\\python\\python35\\lib\\site-packages\\pgmpy\\factors\\discrete\\DiscreteFactor.py:586: FutureWarning: Using a non-tuple sequence for multidimensional indexing is deprecated; use `arr[tuple(seq)]` instead of `arr[seq]`. In the future this will be interpreted as an array index, `arr[np.array(seq)]`, which will result either in an error or a different result.\n",
      "  phi.values = phi.values[slice_]\n",
      "c:\\users\\wxh\\appdata\\local\\programs\\python\\python35\\lib\\site-packages\\pgmpy\\factors\\discrete\\DiscreteFactor.py:598: FutureWarning: Using a non-tuple sequence for multidimensional indexing is deprecated; use `arr[tuple(seq)]` instead of `arr[seq]`. In the future this will be interpreted as an array index, `arr[np.array(seq)]`, which will result either in an error or a different result.\n",
      "  phi1.values = phi1.values[slice_]\n"
     ]
    }
   ],
   "source": [
    "from pgmpy.inference import VariableElimination\n",
    "model_infer = VariableElimination(model)\n",
    "q = model_infer.query(variables=['Survived'], evidence={'Fare': 0})\n",
    "print(q['Survived'])\n",
    "q = model_infer.map_query(variables=['Fare','Age','Sex','Pclass','Cabin'], evidence={'Survived': 1})\n",
    "print(q)\n"
   ]
  },
  {
   "cell_type": "markdown",
   "metadata": {},
   "source": [
    "# 用结构学习建立模型"
   ]
  },
  {
   "cell_type": "code",
   "execution_count": 29,
   "metadata": {},
   "outputs": [
    {
     "data": {
      "image/svg+xml": [
       "<?xml version=\"1.0\" encoding=\"UTF-8\" standalone=\"no\"?>\r\n",
       "<!DOCTYPE svg PUBLIC \"-//W3C//DTD SVG 1.1//EN\"\r\n",
       " \"http://www.w3.org/Graphics/SVG/1.1/DTD/svg11.dtd\">\r\n",
       "<!-- Generated by graphviz version 2.38.0 (20140413.2041)\r\n",
       " -->\r\n",
       "<!-- Title: %3 Pages: 1 -->\r\n",
       "<svg width=\"127pt\" height=\"314pt\"\r\n",
       " viewBox=\"0.00 0.00 127.00 314.00\" xmlns=\"http://www.w3.org/2000/svg\" xmlns:xlink=\"http://www.w3.org/1999/xlink\">\r\n",
       "<g id=\"graph0\" class=\"graph\" transform=\"scale(1 1) rotate(0) translate(4 310)\">\r\n",
       "<title>%3</title>\r\n",
       "<polygon fill=\"white\" stroke=\"none\" points=\"-4,4 -4,-310 123,-310 123,4 -4,4\"/>\r\n",
       "<!-- Fare -->\r\n",
       "<g id=\"node1\" class=\"node\"><title>Fare</title>\r\n",
       "<polygon fill=\"lightgrey\" stroke=\"black\" points=\"54,-192 0,-192 0,-171 54,-171 54,-192\"/>\r\n",
       "<text text-anchor=\"middle\" x=\"27\" y=\"-178.4\" font-family=\"Times New Roman,serif\" font-size=\"12.00\">Fare</text>\r\n",
       "</g>\r\n",
       "<!-- Sex -->\r\n",
       "<g id=\"node2\" class=\"node\"><title>Sex</title>\r\n",
       "<polygon fill=\"lightgrey\" stroke=\"black\" points=\"54,-135 0,-135 0,-114 54,-114 54,-135\"/>\r\n",
       "<text text-anchor=\"middle\" x=\"27\" y=\"-121.4\" font-family=\"Times New Roman,serif\" font-size=\"12.00\">Sex</text>\r\n",
       "</g>\r\n",
       "<!-- Fare&#45;&gt;Sex -->\r\n",
       "<g id=\"edge1\" class=\"edge\"><title>Fare&#45;&gt;Sex</title>\r\n",
       "<path fill=\"none\" stroke=\"black\" d=\"M27,-170.92C27,-163.908 27,-154.144 27,-145.465\"/>\r\n",
       "<polygon fill=\"black\" stroke=\"black\" points=\"30.5001,-145.341 27,-135.341 23.5001,-145.341 30.5001,-145.341\"/>\r\n",
       "</g>\r\n",
       "<!-- Survived -->\r\n",
       "<g id=\"node3\" class=\"node\"><title>Survived</title>\r\n",
       "<polygon fill=\"lightgrey\" stroke=\"black\" points=\"92,-78 36,-78 36,-57 92,-57 92,-78\"/>\r\n",
       "<text text-anchor=\"middle\" x=\"64\" y=\"-64.4\" font-family=\"Times New Roman,serif\" font-size=\"12.00\">Survived</text>\r\n",
       "</g>\r\n",
       "<!-- Sex&#45;&gt;Survived -->\r\n",
       "<g id=\"edge4\" class=\"edge\"><title>Sex&#45;&gt;Survived</title>\r\n",
       "<path fill=\"none\" stroke=\"black\" d=\"M33.4449,-113.92C38.4761,-106.441 45.6143,-95.8301 51.7261,-86.745\"/>\r\n",
       "<polygon fill=\"black\" stroke=\"black\" points=\"54.702,-88.5917 57.3798,-78.3408 48.894,-84.6844 54.702,-88.5917\"/>\r\n",
       "</g>\r\n",
       "<!-- Age -->\r\n",
       "<g id=\"node4\" class=\"node\"><title>Age</title>\r\n",
       "<polygon fill=\"lightgrey\" stroke=\"black\" points=\"119,-21 65,-21 65,-0 119,-0 119,-21\"/>\r\n",
       "<text text-anchor=\"middle\" x=\"92\" y=\"-7.4\" font-family=\"Times New Roman,serif\" font-size=\"12.00\">Age</text>\r\n",
       "</g>\r\n",
       "<!-- Survived&#45;&gt;Age -->\r\n",
       "<g id=\"edge2\" class=\"edge\"><title>Survived&#45;&gt;Age</title>\r\n",
       "<path fill=\"none\" stroke=\"black\" d=\"M68.8772,-56.9197C72.6053,-49.5967 77.8621,-39.2709 82.4216,-30.3147\"/>\r\n",
       "<polygon fill=\"black\" stroke=\"black\" points=\"85.5723,-31.8404 86.9901,-21.3408 79.3342,-28.6646 85.5723,-31.8404\"/>\r\n",
       "</g>\r\n",
       "<!-- Cabin -->\r\n",
       "<g id=\"node5\" class=\"node\"><title>Cabin</title>\r\n",
       "<polygon fill=\"lightgrey\" stroke=\"black\" points=\"109,-306 55,-306 55,-285 109,-285 109,-306\"/>\r\n",
       "<text text-anchor=\"middle\" x=\"82\" y=\"-292.4\" font-family=\"Times New Roman,serif\" font-size=\"12.00\">Cabin</text>\r\n",
       "</g>\r\n",
       "<!-- Pclass -->\r\n",
       "<g id=\"node6\" class=\"node\"><title>Pclass</title>\r\n",
       "<polygon fill=\"lightgrey\" stroke=\"black\" points=\"109,-249 55,-249 55,-228 109,-228 109,-249\"/>\r\n",
       "<text text-anchor=\"middle\" x=\"82\" y=\"-235.4\" font-family=\"Times New Roman,serif\" font-size=\"12.00\">Pclass</text>\r\n",
       "</g>\r\n",
       "<!-- Cabin&#45;&gt;Pclass -->\r\n",
       "<g id=\"edge3\" class=\"edge\"><title>Cabin&#45;&gt;Pclass</title>\r\n",
       "<path fill=\"none\" stroke=\"black\" d=\"M82,-284.92C82,-277.908 82,-268.144 82,-259.465\"/>\r\n",
       "<polygon fill=\"black\" stroke=\"black\" points=\"85.5001,-259.341 82,-249.341 78.5001,-259.341 85.5001,-259.341\"/>\r\n",
       "</g>\r\n",
       "<!-- Pclass&#45;&gt;Fare -->\r\n",
       "<g id=\"edge5\" class=\"edge\"><title>Pclass&#45;&gt;Fare</title>\r\n",
       "<path fill=\"none\" stroke=\"black\" d=\"M72.4197,-227.92C64.6293,-220.129 53.4405,-208.94 44.1176,-199.618\"/>\r\n",
       "<polygon fill=\"black\" stroke=\"black\" points=\"46.3868,-196.937 36.8408,-192.341 41.437,-201.887 46.3868,-196.937\"/>\r\n",
       "</g>\r\n",
       "<!-- Pclass&#45;&gt;Survived -->\r\n",
       "<g id=\"edge7\" class=\"edge\"><title>Pclass&#45;&gt;Survived</title>\r\n",
       "<path fill=\"none\" stroke=\"black\" d=\"M80.9807,-227.93C78.1353,-201.215 70.0606,-125.402 66.1606,-88.7856\"/>\r\n",
       "<polygon fill=\"black\" stroke=\"black\" points=\"69.5925,-87.9594 65.053,-78.3864 62.6319,-88.7009 69.5925,-87.9594\"/>\r\n",
       "</g>\r\n",
       "<!-- Pclass&#45;&gt;Age -->\r\n",
       "<g id=\"edge6\" class=\"edge\"><title>Pclass&#45;&gt;Age</title>\r\n",
       "<path fill=\"none\" stroke=\"black\" d=\"M84.4273,-227.722C90.853,-200.619 107.389,-122.228 101,-57 100.158,-48.405 98.442,-39.0257 96.7319,-31.0279\"/>\r\n",
       "<polygon fill=\"black\" stroke=\"black\" points=\"100.122,-30.1528 94.4864,-21.1813 93.2975,-31.7092 100.122,-30.1528\"/>\r\n",
       "</g>\r\n",
       "</g>\r\n",
       "</svg>\r\n"
      ],
      "text/plain": [
       "<graphviz.dot.Digraph at 0x1bc06550>"
      ]
     },
     "execution_count": 29,
     "metadata": {},
     "output_type": "execute_result"
    }
   ],
   "source": [
    "from pgmpy.estimators import HillClimbSearch\n",
    "from pgmpy.estimators import BdeuScore, K2Score, BicScore\n",
    "hc = HillClimbSearch(train, scoring_method=BicScore(train))\n",
    "best_model = hc.estimate()\n",
    "#print(best_model.edges())\n",
    "showBN(best_model)"
   ]
  },
  {
   "cell_type": "code",
   "execution_count": 42,
   "metadata": {},
   "outputs": [
    {
     "data": {
      "text/plain": [
       "0.8131868131868132"
      ]
     },
     "execution_count": 42,
     "metadata": {},
     "output_type": "execute_result"
    }
   ],
   "source": [
    "best_model.fit(train, estimator=BayesianEstimator, prior_type=\"BDeu\") # default equivalent_sample_size=5\n",
    "predict_data=test.drop(columns=['Survived'],axis=1)\n",
    "y_pred = best_model.predict(predict_data)\n",
    "(y_pred['Survived']==test['Survived']).sum()/len(test)#测试集精度"
   ]
  },
  {
   "cell_type": "markdown",
   "metadata": {},
   "source": [
    "# 预测原test集并保存csv"
   ]
  },
  {
   "cell_type": "code",
   "execution_count": 43,
   "metadata": {},
   "outputs": [],
   "source": [
    "kaggle_test=full.drop(columns=['Embarked','Name','Parch','PassengerId','SibSp','Ticket','Title'])\n",
    "kaggle_test=kaggle_test[kaggle_test['Survived'].isna()]\n",
    "kaggle_test=kaggle_test.drop(columns=['Survived'],axis=1)\n",
    "kaggle_test_pred = model.predict(kaggle_test)\n",
    "#kaggle_test_pred = best_model.predict(kaggle_test)"
   ]
  },
  {
   "cell_type": "code",
   "execution_count": 44,
   "metadata": {},
   "outputs": [],
   "source": [
    "kaggle_test_pred=kaggle_test_pred.reindex(columns=['PassengerId','Survived'])\n",
    "kaggle_test_pred['PassengerId']=np.linspace(892,1309,1309-892+1,dtype=np.int)\n",
    "kaggle_test_pred\n",
    "kaggle_test_pred.to_csv('./kaggle_test_pred.csv',index=0)"
   ]
  }
 ],
 "metadata": {
  "kernelspec": {
   "display_name": "Python 3",
   "language": "python",
   "name": "python3"
  },
  "language_info": {
   "codemirror_mode": {
    "name": "ipython",
    "version": 3
   },
   "file_extension": ".py",
   "mimetype": "text/x-python",
   "name": "python",
   "nbconvert_exporter": "python",
   "pygments_lexer": "ipython3",
   "version": "3.5.2"
  }
 },
 "nbformat": 4,
 "nbformat_minor": 2
}
